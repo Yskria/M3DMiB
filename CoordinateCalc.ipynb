{
 "cells": [
  {
   "cell_type": "code",
   "execution_count": 3,
   "id": "2049854d8d1dcee7",
   "metadata": {
    "ExecuteTime": {
     "end_time": "2024-11-18T11:51:14.047832Z",
     "start_time": "2024-11-18T11:51:14.028041Z"
    }
   },
   "outputs": [
    {
     "name": "stdout",
     "output_type": "stream",
     "text": [
      "New Latitude: 52.1335029352413\n",
      "New Longitude: 4.6607774023911395\n"
     ]
    }
   ],
   "source": [
    "\n",
    "import math\n",
    "\n",
    "def calculate_new_coordinates(latitude, longitude, meters):\n",
    "    # Radius of the Earth in kilometers\n",
    "    earth_radius = 6378.137  \n",
    "    pi = math.pi\n",
    "    \n",
    "    # Conversion factor for 1 meter in degrees\n",
    "    m = 1 / ((2 * pi / 360) * earth_radius * 1000)  # 1 meter in degrees\n",
    "    \n",
    "    # Calculate new latitude\n",
    "    new_latitude = latitude + (meters * m)\n",
    "    \n",
    "    # Calculate new longitude\n",
    "    new_longitude = longitude + (meters * m) / math.cos(latitude * (pi / 180))\n",
    "    \n",
    "    return new_latitude, new_longitude\n",
    "\n",
    "# Example usage\n",
    "latitude = 52.13348496893562  # Input latitude\n",
    "longitude = 4.660748132913985  # Input longitude\n",
    "north = 2  # Distance in meters\n",
    "south = -2\n",
    "east = 2\n",
    "west = -2\n",
    "\n",
    "new_lat, new_lon = calculate_new_coordinates(latitude, longitude, north)\n",
    "\n",
    "print(f\"New Latitude: {new_lat}\")\n",
    "print(f\"New Longitude: {new_lon}\")\n"
   ]
  },
  {
   "cell_type": "code",
   "execution_count": null,
   "id": "c2cad6a67931cdeb",
   "metadata": {},
   "outputs": [],
   "source": []
  }
 ],
 "metadata": {
  "kernelspec": {
   "display_name": "Python 3",
   "language": "python",
   "name": "python3"
  },
  "language_info": {
   "codemirror_mode": {
    "name": "ipython",
    "version": 3
   },
   "file_extension": ".py",
   "mimetype": "text/x-python",
   "name": "python",
   "nbconvert_exporter": "python",
   "pygments_lexer": "ipython3",
   "version": "3.11.9"
  }
 },
 "nbformat": 4,
 "nbformat_minor": 5
}
